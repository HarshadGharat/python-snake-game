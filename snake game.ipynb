{
 "cells": [
  {
   "cell_type": "code",
   "execution_count": 1,
   "id": "f91e920e",
   "metadata": {},
   "outputs": [],
   "source": [
    "import turtle\n",
    "import time\n",
    "import random"
   ]
  },
  {
   "cell_type": "code",
   "execution_count": 2,
   "id": "f55e0ef5",
   "metadata": {},
   "outputs": [],
   "source": [
    "delay = 0.15"
   ]
  },
  {
   "cell_type": "code",
   "execution_count": 3,
   "id": "97a2d6cd",
   "metadata": {},
   "outputs": [],
   "source": [
    "#scores\n",
    "score = 0\n",
    "high_score = 0"
   ]
  },
  {
   "cell_type": "code",
   "execution_count": 4,
   "id": "f41a2b9d",
   "metadata": {},
   "outputs": [],
   "source": [
    "#seting up screen \n",
    "wn = turtle.Screen()\n",
    "wn.title(\"Snake Game\")\n",
    "wn.bgcolor('purple')\n",
    "wn.setup(width=600, height=600)\n",
    "wn.tracer(0)"
   ]
  },
  {
   "cell_type": "code",
   "execution_count": 5,
   "id": "46da4e44",
   "metadata": {},
   "outputs": [],
   "source": [
    "#snake head info\n",
    "head = turtle.Turtle()\n",
    "head.speed(0)\n",
    "head.shape(\"circle\")\n",
    "head.color(\"black\")\n",
    "head.penup()\n",
    "head.goto(0,0)\n",
    "head.direction = \"stop\""
   ]
  },
  {
   "cell_type": "code",
   "execution_count": 6,
   "id": "797383a2",
   "metadata": {},
   "outputs": [],
   "source": [
    "#snake food info\n",
    "food= turtle.Turtle()\n",
    "food.speed(0)\n",
    "food.shape(\"circle\")\n",
    "food.color(\"red\")\n",
    "food.penup()\n",
    "food.goto(0,100)\n",
    "\n",
    "segments = []"
   ]
  },
  {
   "cell_type": "code",
   "execution_count": 7,
   "id": "d12f3c8f",
   "metadata": {},
   "outputs": [],
   "source": [
    "#scoreboards \n",
    "sc = turtle.Turtle()\n",
    "sc.speed(0)\n",
    "sc.shape(\"circle\")\n",
    "sc.color(\"black\")\n",
    "sc.penup()\n",
    "sc.hideturtle()\n",
    "sc.goto(0,260)\n",
    "sc.write(\"score: 0  High score: 0\", align = \"center\", font=(\"ds-digital\", 24, \"normal\"))"
   ]
  },
  {
   "cell_type": "code",
   "execution_count": 8,
   "id": "48341421",
   "metadata": {},
   "outputs": [],
   "source": [
    "#Functions\n",
    "def go_up():\n",
    "    if head.direction != \"down\":\n",
    "        head.direction = \"up\"\n",
    "def go_down():\n",
    "    if head.direction != \"up\":\n",
    "        head.direction = \"down\"\n",
    "def go_left():\n",
    "    if head.direction != \"right\":\n",
    "        head.direction = \"left\"\n",
    "def go_right():\n",
    "    if head.direction != \"left\":\n",
    "        head.direction = \"right\"\n",
    "def move():\n",
    "    if head.direction == \"up\":\n",
    "        y = head.ycor()\n",
    "        head.sety(y+20)\n",
    "    if head.direction == \"down\":\n",
    "        y = head.ycor()\n",
    "        head.sety(y-20)\n",
    "    if head.direction == \"left\":\n",
    "        x = head.xcor()\n",
    "        head.setx(x-20)\n",
    "    if head.direction == \"right\":\n",
    "        x = head.xcor()\n",
    "        head.setx(x+20)"
   ]
  },
  {
   "cell_type": "code",
   "execution_count": 9,
   "id": "a313362c",
   "metadata": {},
   "outputs": [],
   "source": [
    "#keyboard bindings\n",
    "wn.listen()\n",
    "wn.onkeypress(go_up,\"8\")\n",
    "wn.onkeypress(go_down,\"2\")\n",
    "wn.onkeypress(go_left,\"4\")\n",
    "wn.onkeypress(go_right,\"6\")"
   ]
  },
  {
   "cell_type": "code",
   "execution_count": null,
   "id": "5938d4d8",
   "metadata": {},
   "outputs": [],
   "source": [
    "#Loop\n",
    "while True:\n",
    "    wn.update()\n",
    "\n",
    "    #check collision with border area\n",
    "    if head.xcor()>290 or head.xcor()<-290 or head.ycor()>290 or head.ycor()<-290:\n",
    "        time.sleep(1)\n",
    "        head.goto(0,0)\n",
    "        head.direction = \"stop\"\n",
    "\n",
    "        #hide the segments of body\n",
    "        for segment in segments:\n",
    "            segment.goto(1000,1000) #it out of range\n",
    "        #clear the segments\n",
    "        segments.clear()\n",
    "\n",
    "        #reset score\n",
    "        score = 0\n",
    "\n",
    "        #reset delay\n",
    "        delay = 0.15\n",
    "\n",
    "        sc.clear()\n",
    "        sc.write(\"score: {}  High score: {}\".format(score, high_score), align=\"center\", font=(\"ds-digital\", 24, \"normal\"))\n",
    "\n",
    "    #checking collision with food\n",
    "    if head.distance(food) <20:\n",
    "        # moving the food to random place\n",
    "        x = random.randint(-290,290)\n",
    "        y = random.randint(-290,290)\n",
    "        food.goto(x,y)\n",
    "\n",
    "        #adding a new segment to the head\n",
    "        new_segment = turtle.Turtle()\n",
    "        new_segment.speed(0)\n",
    "        new_segment.shape(\"circle\")\n",
    "        new_segment.color(\"green\")\n",
    "        new_segment.penup()\n",
    "        segments.append(new_segment)\n",
    "\n",
    "        #shorten the delay\n",
    "        delay -= 0.001\n",
    "        #increasing the score\n",
    "        score += 1\n",
    "\n",
    "        if score > high_score:\n",
    "            high_score = score\n",
    "        sc.clear()\n",
    "        sc.write(\"score: {}  High score: {}\".format(score,high_score), align=\"center\", font=(\"ds-digital\", 24, \"normal\")) \n",
    "\n",
    "    #move the segments in reverse order\n",
    "    for index in range(len(segments)-1,0,-1):\n",
    "        x = segments[index-1].xcor()\n",
    "        y = segments[index-1].ycor()\n",
    "        segments[index].goto(x,y)\n",
    "    #move segment 0 to head\n",
    "    if len(segments)>0:\n",
    "        x = head.xcor()\n",
    "        y = head.ycor()\n",
    "        segments[0].goto(x,y)\n",
    "\n",
    "    move()\n",
    "\n",
    "    #check for collision with body\n",
    "    for segment in segments:\n",
    "        if segment.distance(head)<20:\n",
    "            time.sleep(1)\n",
    "            head.goto(0,0)\n",
    "            head.direction = \"stop\"\n",
    "\n",
    "            #hide segments\n",
    "            for segment in segments:\n",
    "                segment.goto(1000,1000)\n",
    "            segments.clear()\n",
    "            score = 0\n",
    "            delay = 0.1\n",
    "\n",
    "            #update the score     \n",
    "            sc.clear()\n",
    "            sc.write(\"score: {}  High score: {}\".format(score,high_score), align=\"center\", font=(\"ds-digital\", 24, \"normal\"))\n",
    "    time.sleep(delay)\n",
    "wn.mainloop()   "
   ]
  },
  {
   "cell_type": "code",
   "execution_count": null,
   "id": "7bb62303",
   "metadata": {},
   "outputs": [],
   "source": []
  }
 ],
 "metadata": {
  "kernelspec": {
   "display_name": "Python 3 (ipykernel)",
   "language": "python",
   "name": "python3"
  },
  "language_info": {
   "codemirror_mode": {
    "name": "ipython",
    "version": 3
   },
   "file_extension": ".py",
   "mimetype": "text/x-python",
   "name": "python",
   "nbconvert_exporter": "python",
   "pygments_lexer": "ipython3",
   "version": "3.9.13"
  }
 },
 "nbformat": 4,
 "nbformat_minor": 5
}
